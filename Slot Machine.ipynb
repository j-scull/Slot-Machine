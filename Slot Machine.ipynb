{
 "cells": [
  {
   "cell_type": "code",
   "execution_count": 16,
   "metadata": {},
   "outputs": [
    {
     "data": {
      "text/plain": [
       "['🍎', '🍐', '🍊']"
      ]
     },
     "execution_count": 16,
     "metadata": {},
     "output_type": "execute_result"
    }
   ],
   "source": [
    "import emoji\n",
    "from random import choice\n",
    "faces = [emoji.emojize(':red_apple:'),\n",
    "         emoji.emojize(':pear:'),\n",
    "         emoji.emojize(':tangerine:')\n",
    "]\n",
    "faces"
   ]
  },
  {
   "cell_type": "code",
   "execution_count": 17,
   "metadata": {},
   "outputs": [],
   "source": [
    "import random"
   ]
  },
  {
   "cell_type": "code",
   "execution_count": 18,
   "metadata": {},
   "outputs": [],
   "source": [
    "class Purse(object):\n",
    "    \"\"\"\n",
    "    Purse object contains the balance\n",
    "    \"\"\"\n",
    "    \n",
    "    def __init__(self):\n",
    "        self.__credit = 10\n",
    "    \n",
    "    def get_balance(self):\n",
    "        return self.__credit\n",
    "    \n",
    "    def credit(self, c):\n",
    "        self.__credit += c\n",
    "        \n",
    "    def debit(self, d):\n",
    "        self.__credit -= d\n",
    "    \n"
   ]
  },
  {
   "cell_type": "code",
   "execution_count": 19,
   "metadata": {},
   "outputs": [],
   "source": [
    "class Column(object):\n",
    "    \"\"\"\n",
    "    Column obect, changes to one of the three emojis\n",
    "    \"\"\"\n",
    "    \n",
    "    def __init__(self):\n",
    "        self.face = random.choice(faces)\n",
    "    \n",
    "    def show_face(self):\n",
    "        return self.face\n",
    "    \n",
    "    def change_face(self):\n",
    "        self.face  = random.choice(faces)"
   ]
  },
  {
   "cell_type": "code",
   "execution_count": 25,
   "metadata": {},
   "outputs": [],
   "source": [
    "class Slot(object):\n",
    "    \n",
    "    \n",
    "    \n",
    "    def __init__(self):\n",
    "        \"\"\"\n",
    "        Initialises purse - a Purse object\n",
    "        Initialises an array - slots - containing three Column objects\n",
    "        \"\"\"\n",
    "        self.purse = Purse()\n",
    "        self.slots = []\n",
    "        for a in range(3):\n",
    "            self.a = Column()\n",
    "            self.slots.append(self.a)\n",
    "    \n",
    "   \n",
    "    def pull_handle(self):\n",
    "        \"\"\"\n",
    "        Changes the face of each column\n",
    "        \"\"\"\n",
    "        for s in self.slots:\n",
    "            s.change_face()\n",
    "    \n",
    "    \n",
    "    def show_slot(self):\n",
    "        \"\"\"\n",
    "        Prints the three faces of the slot machine\n",
    "        \"\"\"\n",
    "        for s in self.slots:\n",
    "            face = s.show_face()\n",
    "            print(face, end=\"\")\n",
    "        print()\n",
    "        \n",
    "    \n",
    "    def take_bet(self, bet):\n",
    "        \"\"\"\n",
    "        Deducts the bet amount from the purse object\n",
    "        Stores this in a variable, bet\n",
    "        \"\"\"\n",
    "        self.bet = bet\n",
    "        self.purse.debit(bet)\n",
    "\n",
    "        \n",
    "    def get_score(self):\n",
    "        \"\"\"\n",
    "        Checks for a full house, half house or empty house\n",
    "        Returns appropriate value\n",
    "        \n",
    "        \"\"\"\n",
    "        S1 = self.slots[0].show_face()\n",
    "        S2 = self.slots[1].show_face()\n",
    "        S3 = self.slots[2].show_face()\n",
    "        if S1 == S2 == S3:\n",
    "            return self.bet*2\n",
    "        elif S1 == S2 or S2 == S3 or S3 == S1:\n",
    "            return self.bet*1.5\n",
    "        return 0\n",
    "        \n",
    "    \n",
    "    \n",
    "    \n",
    "    def run_slot_machine(self):\n",
    "        \"\"\"\n",
    "        Prompts user for input\n",
    "        Checks if input is a positive integer >= 2\n",
    "        Runs a the slot machine until user enter 'N'\n",
    "        Prints appropriate messages\n",
    "        \"\"\"\n",
    "        print('=========== SLOT MACHINE ===========')\n",
    "        print('Minimum bet is 2. Type \\'N\\' to exit.')\n",
    "        print('You have', self.purse.get_balance())\n",
    "        \n",
    "        userBet = input('How much do you bet: ')\n",
    "        \n",
    "        while userBet != 'N':\n",
    "            \n",
    "            try:\n",
    "                userBet = float(userBet)\n",
    "                if userBet %1 == 0:\n",
    "                    userBet = int(userBet)\n",
    "            except ValueError as error:\n",
    "                pass\n",
    "            \n",
    "            if isinstance(userBet, int) == True and userBet > 0:\n",
    "                if userBet < 2:\n",
    "                    print('Minimum bet is two')\n",
    "                elif userBet > self.purse.get_balance():\n",
    "                    print('You do not have enough credit')\n",
    "                else:\n",
    "                    self.take_bet(userBet)\n",
    "                    self.pull_handle()\n",
    "                    self.show_slot()\n",
    "                    self.purse.credit(self.get_score())\n",
    "                    if self.purse.get_balance() < 2:\n",
    "                        print('You score %s - Thank you for playing.' % (self.get_score()))\n",
    "                        print('You are leaving with', self.purse.get_balance())\n",
    "                        break\n",
    "                    else:\n",
    "                        print('You score %s - you have %s' % (self.get_score(), self.purse.get_balance()))\n",
    "                        print()\n",
    "            else:\n",
    "                print('Bet must be a positve integer')\n",
    "    \n",
    "            userBet = input('How much do you bet: ')\n",
    "                \n",
    "        print('Finished!')\n",
    "                \n",
    "                \n",
    "        "
   ]
  },
  {
   "cell_type": "code",
   "execution_count": null,
   "metadata": {},
   "outputs": [
    {
     "name": "stdout",
     "output_type": "stream",
     "text": [
      "=========== SLOT MACHINE ===========\n",
      "Minimum bet is 2. Type 'N' to exit.\n",
      "You have 10\n",
      "How much do you bet: 5\n",
      "🍐🍎🍊\n",
      "You score 0 - you have 5\n",
      "\n",
      "How much do you bet: 5\n",
      "🍎🍎🍎\n",
      "You score 10 - you have 10\n",
      "\n"
     ]
    }
   ],
   "source": [
    "S = Slot()\n",
    "S.run_slot_machine()"
   ]
  },
  {
   "cell_type": "code",
   "execution_count": null,
   "metadata": {},
   "outputs": [],
   "source": []
  }
 ],
 "metadata": {
  "kernelspec": {
   "display_name": "Python 3",
   "language": "python",
   "name": "python3"
  },
  "language_info": {
   "codemirror_mode": {
    "name": "ipython",
    "version": 3
   },
   "file_extension": ".py",
   "mimetype": "text/x-python",
   "name": "python",
   "nbconvert_exporter": "python",
   "pygments_lexer": "ipython3",
   "version": "3.7.1"
  }
 },
 "nbformat": 4,
 "nbformat_minor": 2
}
